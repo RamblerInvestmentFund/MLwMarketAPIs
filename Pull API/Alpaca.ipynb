{
  "nbformat": 4,
  "nbformat_minor": 0,
  "metadata": {
    "colab": {
      "name": "Alpaca.ipynb",
      "provenance": []
    },
    "kernelspec": {
      "name": "python3",
      "display_name": "Python 3"
    }
  },
  "cells": [
    {
      "cell_type": "code",
      "metadata": {
        "colab": {
          "base_uri": "https://localhost:8080/"
        },
        "id": "SqAfc3gH3UCl",
        "outputId": "7a0d3a41-8ae8-496a-effb-e89171085815"
      },
      "source": [
        "!pip install alpaca_trade_api"
      ],
      "execution_count": 2,
      "outputs": [
        {
          "output_type": "stream",
          "text": [
            "Collecting alpaca_trade_api\n",
            "  Downloading https://files.pythonhosted.org/packages/64/95/df68a3c3cae4d725d9157a33e78c1f2296381641b1278c8447d1faecfe01/alpaca_trade_api-0.52.0-py3-none-any.whl\n",
            "Requirement already satisfied: pandas in /usr/local/lib/python3.6/dist-packages (from alpaca_trade_api) (1.1.5)\n",
            "Requirement already satisfied: requests<3,>2 in /usr/local/lib/python3.6/dist-packages (from alpaca_trade_api) (2.23.0)\n",
            "Requirement already satisfied: numpy in /usr/local/lib/python3.6/dist-packages (from alpaca_trade_api) (1.19.5)\n",
            "Requirement already satisfied: urllib3<2,>1.24 in /usr/local/lib/python3.6/dist-packages (from alpaca_trade_api) (1.24.3)\n",
            "Collecting websockets<9,>=8.0\n",
            "\u001b[?25l  Downloading https://files.pythonhosted.org/packages/bb/d9/856af84843912e2853b1b6e898ac8b802989fcf9ecf8e8445a1da263bf3b/websockets-8.1-cp36-cp36m-manylinux2010_x86_64.whl (78kB)\n",
            "\u001b[K     |████████████████████████████████| 81kB 3.9MB/s \n",
            "\u001b[?25hCollecting websocket-client<1,>=0.56.0\n",
            "\u001b[?25l  Downloading https://files.pythonhosted.org/packages/4c/5f/f61b420143ed1c8dc69f9eaec5ff1ac36109d52c80de49d66e0c36c3dfdf/websocket_client-0.57.0-py2.py3-none-any.whl (200kB)\n",
            "\u001b[K     |████████████████████████████████| 204kB 25.8MB/s \n",
            "\u001b[?25hRequirement already satisfied: python-dateutil>=2.7.3 in /usr/local/lib/python3.6/dist-packages (from pandas->alpaca_trade_api) (2.8.1)\n",
            "Requirement already satisfied: pytz>=2017.2 in /usr/local/lib/python3.6/dist-packages (from pandas->alpaca_trade_api) (2018.9)\n",
            "Requirement already satisfied: idna<3,>=2.5 in /usr/local/lib/python3.6/dist-packages (from requests<3,>2->alpaca_trade_api) (2.10)\n",
            "Requirement already satisfied: chardet<4,>=3.0.2 in /usr/local/lib/python3.6/dist-packages (from requests<3,>2->alpaca_trade_api) (3.0.4)\n",
            "Requirement already satisfied: certifi>=2017.4.17 in /usr/local/lib/python3.6/dist-packages (from requests<3,>2->alpaca_trade_api) (2020.12.5)\n",
            "Requirement already satisfied: six in /usr/local/lib/python3.6/dist-packages (from websocket-client<1,>=0.56.0->alpaca_trade_api) (1.15.0)\n",
            "Installing collected packages: websockets, websocket-client, alpaca-trade-api\n",
            "Successfully installed alpaca-trade-api-0.52.0 websocket-client-0.57.0 websockets-8.1\n"
          ],
          "name": "stdout"
        }
      ]
    },
    {
      "cell_type": "code",
      "metadata": {
        "id": "OaHHeM392813"
      },
      "source": [
        "import alpaca_trade_api as tradeapi"
      ],
      "execution_count": 3,
      "outputs": []
    },
    {
      "cell_type": "code",
      "metadata": {
        "id": "xyigg9Y23ETO"
      },
      "source": [
        "# Replace these with your API connection info from the dashboard\n",
        "base_url = 'https://paper-api.alpaca.markets'\n",
        "api_key_id = 'PKILAPPNNLK7DKUDD3V4'\n",
        "api_secret = '9m70crwYrofvh7Xyt5D3786iq9uP2yNhRMfUetcH'\n",
        "\n",
        "api = tradeapi.REST(\n",
        "    base_url=base_url,\n",
        "\n",
        "    key_id=api_key_id,\n",
        "    secret_key=api_secret\n",
        ")"
      ],
      "execution_count": 4,
      "outputs": []
    },
    {
      "cell_type": "code",
      "metadata": {
        "colab": {
          "base_uri": "https://localhost:8080/"
        },
        "id": "1l-k3Jpb4ePO",
        "outputId": "013e25c5-94fd-49e8-99cd-e809d723a01f"
      },
      "source": [
        "api. get_account()"
      ],
      "execution_count": 11,
      "outputs": [
        {
          "output_type": "execute_result",
          "data": {
            "text/plain": [
              "Account({   'account_blocked': False,\n",
              "    'account_number': 'PA2S2EWG2LDM',\n",
              "    'buying_power': '400000',\n",
              "    'cash': '100000',\n",
              "    'created_at': '2020-11-09T05:41:56.699106Z',\n",
              "    'currency': 'USD',\n",
              "    'daytrade_count': 0,\n",
              "    'daytrading_buying_power': '400000',\n",
              "    'equity': '100000',\n",
              "    'id': '0d8eb539-69b3-4bb0-baa8-72492ef37333',\n",
              "    'initial_margin': '0',\n",
              "    'last_equity': '100000',\n",
              "    'last_maintenance_margin': '0',\n",
              "    'long_market_value': '0',\n",
              "    'maintenance_margin': '0',\n",
              "    'multiplier': '4',\n",
              "    'pattern_day_trader': False,\n",
              "    'portfolio_value': '100000',\n",
              "    'regt_buying_power': '200000',\n",
              "    'short_market_value': '0',\n",
              "    'shorting_enabled': True,\n",
              "    'sma': '0',\n",
              "    'status': 'ACTIVE',\n",
              "    'trade_suspended_by_user': False,\n",
              "    'trading_blocked': False,\n",
              "    'transfers_blocked': False})"
            ]
          },
          "metadata": {
            "tags": []
          },
          "execution_count": 11
        }
      ]
    },
    {
      "cell_type": "code",
      "metadata": {
        "colab": {
          "base_uri": "https://localhost:8080/"
        },
        "id": "-7D6HmJo3Hv_",
        "outputId": "af89f4e7-3c55-438e-e613-be29dd1491e3"
      },
      "source": [
        "assets = api.list_assets()\n",
        "print(\"\\nassets: \")\n",
        "print(assets[0:10])\n",
        "positions = api.list_positions()\n",
        "print(\"\\npositions: \")\n",
        "print(positions)\n",
        "api.submit_order('AAPL',10,'buy','limit','gtc',170.50)\n",
        "orders = api.list_orders()\n",
        "print(\"\\norders: \")\n",
        "print(orders)"
      ],
      "execution_count": 13,
      "outputs": [
        {
          "output_type": "stream",
          "text": [
            "\n",
            "assets: \n",
            "[Asset({   'class': 'us_equity',\n",
            "    'easy_to_borrow': False,\n",
            "    'exchange': 'NASDAQ',\n",
            "    'id': '5d52083e-3e15-464d-b4d3-52dc2b150480',\n",
            "    'marginable': True,\n",
            "    'name': 'Mercurity Fintech Holding Inc. ADS',\n",
            "    'shortable': False,\n",
            "    'status': 'active',\n",
            "    'symbol': 'MFH',\n",
            "    'tradable': True}), Asset({   'class': 'us_equity',\n",
            "    'easy_to_borrow': False,\n",
            "    'exchange': 'AMEX',\n",
            "    'id': '27c41b74-a81a-4ac4-86fe-56707b6fd838',\n",
            "    'marginable': True,\n",
            "    'name': 'Blonder Tongue Laboratories Inc',\n",
            "    'shortable': False,\n",
            "    'status': 'active',\n",
            "    'symbol': 'BDR',\n",
            "    'tradable': True}), Asset({   'class': 'us_equity',\n",
            "    'easy_to_borrow': True,\n",
            "    'exchange': 'NASDAQ',\n",
            "    'id': '6ecd8eef-d957-4a3c-8609-d738df5249c1',\n",
            "    'marginable': True,\n",
            "    'name': 'Dropbox, Inc. Class A Common Stock',\n",
            "    'shortable': True,\n",
            "    'status': 'active',\n",
            "    'symbol': 'DBX',\n",
            "    'tradable': True}), Asset({   'class': 'us_equity',\n",
            "    'easy_to_borrow': True,\n",
            "    'exchange': 'NYSE',\n",
            "    'id': '2f34c0b3-a4aa-4959-b52c-3c41b2c246c4',\n",
            "    'marginable': True,\n",
            "    'name': 'The Walt Disney Company',\n",
            "    'shortable': True,\n",
            "    'status': 'active',\n",
            "    'symbol': 'DIS',\n",
            "    'tradable': True}), Asset({   'class': 'us_equity',\n",
            "    'easy_to_borrow': False,\n",
            "    'exchange': 'NASDAQ',\n",
            "    'id': 'a76fa46d-d68d-4423-905e-fbb35128062d',\n",
            "    'marginable': True,\n",
            "    'name': 'Medigus Ltd. American Depositary Shares',\n",
            "    'shortable': False,\n",
            "    'status': 'active',\n",
            "    'symbol': 'MDGS',\n",
            "    'tradable': True}), Asset({   'class': 'us_equity',\n",
            "    'easy_to_borrow': True,\n",
            "    'exchange': 'NASDAQ',\n",
            "    'id': '69b15845-7c63-4586-b274-1cfdfe9df3d8',\n",
            "    'marginable': True,\n",
            "    'name': 'Alphabet Inc. Class A Common Stock',\n",
            "    'shortable': True,\n",
            "    'status': 'active',\n",
            "    'symbol': 'GOOGL',\n",
            "    'tradable': True}), Asset({   'class': 'us_equity',\n",
            "    'easy_to_borrow': False,\n",
            "    'exchange': 'AMEX',\n",
            "    'id': '5f0752bb-1fa3-4ae0-bffb-ef55981dbed5',\n",
            "    'marginable': True,\n",
            "    'name': 'Ambow Education Holding Ltd. American Depository Shares, each '\n",
            "            'representing two Class A ordinary shar',\n",
            "    'shortable': False,\n",
            "    'status': 'active',\n",
            "    'symbol': 'AMBO',\n",
            "    'tradable': True}), Asset({   'class': 'us_equity',\n",
            "    'easy_to_borrow': False,\n",
            "    'exchange': 'NASDAQ',\n",
            "    'id': '10245e27-e6dd-4d83-b2f7-aebb58633700',\n",
            "    'marginable': True,\n",
            "    'name': 'Moleculin Biotech, Inc. Common Stock',\n",
            "    'shortable': False,\n",
            "    'status': 'active',\n",
            "    'symbol': 'MBRX',\n",
            "    'tradable': True}), Asset({   'class': 'us_equity',\n",
            "    'easy_to_borrow': False,\n",
            "    'exchange': 'NASDAQ',\n",
            "    'id': '6eb249ab-7767-4e1a-b959-e8d946616166',\n",
            "    'marginable': True,\n",
            "    'name': 'Farmmi, Inc. Ordinary Shares',\n",
            "    'shortable': False,\n",
            "    'status': 'active',\n",
            "    'symbol': 'FAMI',\n",
            "    'tradable': True}), Asset({   'class': 'us_equity',\n",
            "    'easy_to_borrow': False,\n",
            "    'exchange': 'NASDAQ',\n",
            "    'id': '7ee5dcab-ca51-4997-a6ff-653b33636dbb',\n",
            "    'marginable': True,\n",
            "    'name': 'Sino-Global Shipping America, Ltd. Common Stock',\n",
            "    'shortable': False,\n",
            "    'status': 'active',\n",
            "    'symbol': 'SINO',\n",
            "    'tradable': True})]\n",
            "\n",
            "positions: \n",
            "[]\n",
            "\n",
            "orders: \n",
            "[Order({   'asset_class': 'us_equity',\n",
            "    'asset_id': 'b0b6dd9d-8b9b-48a9-ba46-b9d54906e415',\n",
            "    'canceled_at': None,\n",
            "    'client_order_id': 'e65e2984-b069-4a59-a951-177f66a207ae',\n",
            "    'created_at': '2021-02-07T19:05:41.784774Z',\n",
            "    'expired_at': None,\n",
            "    'extended_hours': False,\n",
            "    'failed_at': None,\n",
            "    'filled_at': None,\n",
            "    'filled_avg_price': None,\n",
            "    'filled_qty': '0',\n",
            "    'hwm': None,\n",
            "    'id': 'cfe2a354-8459-4a8b-81cf-5be0bb06ef6e',\n",
            "    'legs': None,\n",
            "    'limit_price': '170.5',\n",
            "    'order_class': '',\n",
            "    'order_type': 'limit',\n",
            "    'qty': '10',\n",
            "    'replaced_at': None,\n",
            "    'replaced_by': None,\n",
            "    'replaces': None,\n",
            "    'side': 'buy',\n",
            "    'status': 'accepted',\n",
            "    'stop_price': None,\n",
            "    'submitted_at': '2021-02-07T19:05:41.778536Z',\n",
            "    'symbol': 'AAPL',\n",
            "    'time_in_force': 'gtc',\n",
            "    'trail_percent': None,\n",
            "    'trail_price': None,\n",
            "    'type': 'limit',\n",
            "    'updated_at': '2021-02-07T19:05:41.784774Z'})]\n"
          ],
          "name": "stdout"
        }
      ]
    },
    {
      "cell_type": "code",
      "metadata": {
        "colab": {
          "base_uri": "https://localhost:8080/"
        },
        "id": "9XrfpvQj5NMh",
        "outputId": "558b26ea-be24-4cae-9e66-3490908558bb"
      },
      "source": [
        "api.submit_order('AAPL', side='buy', qty=1, type='market', time_in_force='gtc')"
      ],
      "execution_count": 17,
      "outputs": [
        {
          "output_type": "execute_result",
          "data": {
            "text/plain": [
              "Order({   'asset_class': 'us_equity',\n",
              "    'asset_id': 'b0b6dd9d-8b9b-48a9-ba46-b9d54906e415',\n",
              "    'canceled_at': None,\n",
              "    'client_order_id': 'dc01c37d-0127-4c2d-a1c7-a7c7de78436f',\n",
              "    'created_at': '2021-02-07T19:08:54.700021Z',\n",
              "    'expired_at': None,\n",
              "    'extended_hours': False,\n",
              "    'failed_at': None,\n",
              "    'filled_at': None,\n",
              "    'filled_avg_price': None,\n",
              "    'filled_qty': '0',\n",
              "    'hwm': None,\n",
              "    'id': '32cdb8a0-a8d2-40ad-a2bb-0af9fed17dcf',\n",
              "    'legs': None,\n",
              "    'limit_price': None,\n",
              "    'order_class': '',\n",
              "    'order_type': 'market',\n",
              "    'qty': '1',\n",
              "    'replaced_at': None,\n",
              "    'replaced_by': None,\n",
              "    'replaces': None,\n",
              "    'side': 'buy',\n",
              "    'status': 'accepted',\n",
              "    'stop_price': None,\n",
              "    'submitted_at': '2021-02-07T19:08:54.690516Z',\n",
              "    'symbol': 'AAPL',\n",
              "    'time_in_force': 'gtc',\n",
              "    'trail_percent': None,\n",
              "    'trail_price': None,\n",
              "    'type': 'market',\n",
              "    'updated_at': '2021-02-07T19:08:54.700021Z'})"
            ]
          },
          "metadata": {
            "tags": []
          },
          "execution_count": 17
        }
      ]
    },
    {
      "cell_type": "code",
      "metadata": {
        "colab": {
          "base_uri": "https://localhost:8080/",
          "height": 421
        },
        "id": "tk3ZWoU36R0d",
        "outputId": "fd464a04-9a67-4c3a-8a81-5fd6e3893261"
      },
      "source": [
        "api.get_barset('AAPL', 'day', limit=10).df"
      ],
      "execution_count": 18,
      "outputs": [
        {
          "output_type": "execute_result",
          "data": {
            "text/html": [
              "<div>\n",
              "<style scoped>\n",
              "    .dataframe tbody tr th:only-of-type {\n",
              "        vertical-align: middle;\n",
              "    }\n",
              "\n",
              "    .dataframe tbody tr th {\n",
              "        vertical-align: top;\n",
              "    }\n",
              "\n",
              "    .dataframe thead tr th {\n",
              "        text-align: left;\n",
              "    }\n",
              "\n",
              "    .dataframe thead tr:last-of-type th {\n",
              "        text-align: right;\n",
              "    }\n",
              "</style>\n",
              "<table border=\"1\" class=\"dataframe\">\n",
              "  <thead>\n",
              "    <tr>\n",
              "      <th></th>\n",
              "      <th colspan=\"5\" halign=\"left\">AAPL</th>\n",
              "    </tr>\n",
              "    <tr>\n",
              "      <th></th>\n",
              "      <th>open</th>\n",
              "      <th>high</th>\n",
              "      <th>low</th>\n",
              "      <th>close</th>\n",
              "      <th>volume</th>\n",
              "    </tr>\n",
              "    <tr>\n",
              "      <th>time</th>\n",
              "      <th></th>\n",
              "      <th></th>\n",
              "      <th></th>\n",
              "      <th></th>\n",
              "      <th></th>\n",
              "    </tr>\n",
              "  </thead>\n",
              "  <tbody>\n",
              "    <tr>\n",
              "      <th>2021-01-25 00:00:00-05:00</th>\n",
              "      <td>143.07</td>\n",
              "      <td>145.09</td>\n",
              "      <td>136.54</td>\n",
              "      <td>142.900</td>\n",
              "      <td>142335837</td>\n",
              "    </tr>\n",
              "    <tr>\n",
              "      <th>2021-01-26 00:00:00-05:00</th>\n",
              "      <td>143.60</td>\n",
              "      <td>144.30</td>\n",
              "      <td>141.37</td>\n",
              "      <td>143.185</td>\n",
              "      <td>85816874</td>\n",
              "    </tr>\n",
              "    <tr>\n",
              "      <th>2021-01-27 00:00:00-05:00</th>\n",
              "      <td>143.43</td>\n",
              "      <td>144.30</td>\n",
              "      <td>140.41</td>\n",
              "      <td>142.530</td>\n",
              "      <td>110342303</td>\n",
              "    </tr>\n",
              "    <tr>\n",
              "      <th>2021-01-28 00:00:00-05:00</th>\n",
              "      <td>139.52</td>\n",
              "      <td>141.99</td>\n",
              "      <td>136.70</td>\n",
              "      <td>137.040</td>\n",
              "      <td>127192871</td>\n",
              "    </tr>\n",
              "    <tr>\n",
              "      <th>2021-01-29 00:00:00-05:00</th>\n",
              "      <td>135.83</td>\n",
              "      <td>136.74</td>\n",
              "      <td>130.21</td>\n",
              "      <td>131.830</td>\n",
              "      <td>162479747</td>\n",
              "    </tr>\n",
              "    <tr>\n",
              "      <th>2021-02-01 00:00:00-05:00</th>\n",
              "      <td>133.75</td>\n",
              "      <td>135.38</td>\n",
              "      <td>130.93</td>\n",
              "      <td>134.100</td>\n",
              "      <td>96660055</td>\n",
              "    </tr>\n",
              "    <tr>\n",
              "      <th>2021-02-02 00:00:00-05:00</th>\n",
              "      <td>135.73</td>\n",
              "      <td>136.31</td>\n",
              "      <td>134.61</td>\n",
              "      <td>134.980</td>\n",
              "      <td>73079171</td>\n",
              "    </tr>\n",
              "    <tr>\n",
              "      <th>2021-02-03 00:00:00-05:00</th>\n",
              "      <td>135.76</td>\n",
              "      <td>135.77</td>\n",
              "      <td>133.61</td>\n",
              "      <td>133.900</td>\n",
              "      <td>76952077</td>\n",
              "    </tr>\n",
              "    <tr>\n",
              "      <th>2021-02-04 00:00:00-05:00</th>\n",
              "      <td>136.30</td>\n",
              "      <td>137.40</td>\n",
              "      <td>134.59</td>\n",
              "      <td>137.400</td>\n",
              "      <td>71745898</td>\n",
              "    </tr>\n",
              "    <tr>\n",
              "      <th>2021-02-05 00:00:00-05:00</th>\n",
              "      <td>137.35</td>\n",
              "      <td>137.42</td>\n",
              "      <td>135.86</td>\n",
              "      <td>136.770</td>\n",
              "      <td>69111348</td>\n",
              "    </tr>\n",
              "  </tbody>\n",
              "</table>\n",
              "</div>"
            ],
            "text/plain": [
              "                             AAPL                                    \n",
              "                             open    high     low    close     volume\n",
              "time                                                                 \n",
              "2021-01-25 00:00:00-05:00  143.07  145.09  136.54  142.900  142335837\n",
              "2021-01-26 00:00:00-05:00  143.60  144.30  141.37  143.185   85816874\n",
              "2021-01-27 00:00:00-05:00  143.43  144.30  140.41  142.530  110342303\n",
              "2021-01-28 00:00:00-05:00  139.52  141.99  136.70  137.040  127192871\n",
              "2021-01-29 00:00:00-05:00  135.83  136.74  130.21  131.830  162479747\n",
              "2021-02-01 00:00:00-05:00  133.75  135.38  130.93  134.100   96660055\n",
              "2021-02-02 00:00:00-05:00  135.73  136.31  134.61  134.980   73079171\n",
              "2021-02-03 00:00:00-05:00  135.76  135.77  133.61  133.900   76952077\n",
              "2021-02-04 00:00:00-05:00  136.30  137.40  134.59  137.400   71745898\n",
              "2021-02-05 00:00:00-05:00  137.35  137.42  135.86  136.770   69111348"
            ]
          },
          "metadata": {
            "tags": []
          },
          "execution_count": 18
        }
      ]
    }
  ]
}